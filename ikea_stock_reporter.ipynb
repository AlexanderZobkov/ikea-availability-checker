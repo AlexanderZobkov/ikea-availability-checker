{
  "nbformat": 4,
  "nbformat_minor": 0,
  "metadata": {
    "colab": {
      "name": "ikea-stock-reporter.ipynb",
      "provenance": [],
      "collapsed_sections": [],
      "authorship_tag": "ABX9TyNJ5ITG6aA2B6Sn+O1IL9aD",
      "include_colab_link": true
    },
    "kernelspec": {
      "name": "python3",
      "display_name": "Python 3"
    },
    "language_info": {
      "name": "python"
    }
  },
  "cells": [
    {
      "cell_type": "markdown",
      "metadata": {
        "id": "view-in-github",
        "colab_type": "text"
      },
      "source": [
        "<a href=\"https://colab.research.google.com/github/AlexanderZobkov/ikea-stock-reporter/blob/master/ikea_stock_reporter.ipynb\" target=\"_parent\"><img src=\"https://colab.research.google.com/assets/colab-badge.svg\" alt=\"Open In Colab\"/></a>"
      ]
    },
    {
      "cell_type": "code",
      "execution_count": 1,
      "metadata": {
        "id": "CgEYLZFjh9DU"
      },
      "outputs": [],
      "source": [
        "import requests\n",
        "import pandas as pd"
      ]
    },
    {
      "cell_type": "code",
      "source": [
        "items = {\n",
        "    '10014030': \"Каркас гардероба, белый, 50x58x236 см\",\n",
        "    '40277973': \"Полка, белый, 50x58 см\"\n",
        "}\n",
        "stores = {\n",
        "    '335': 'Химки',\n",
        "    '336': 'Теплый Стан',\n",
        "    '344': 'Белая Дача',\n",
        "}\n"
      ],
      "metadata": {
        "id": "PBJQGnApiDYc"
      },
      "execution_count": 2,
      "outputs": []
    },
    {
      "cell_type": "code",
      "source": [
        "items_url = ','.join(list(items.keys()))\n",
        "availability_url = f'https://api.ingka.ikea.com/cia/availabilities/ru/ru?itemNos={items_url}&expand=StoresList,Restocks'"
      ],
      "metadata": {
        "id": "l8C86SIhiIHd"
      },
      "execution_count": 3,
      "outputs": []
    },
    {
      "cell_type": "code",
      "source": [
        "ingka_headers = {\n",
        "    'Connection': 'close',\n",
        "    'Accept': 'application/json;version=2',\n",
        "    'Referer': 'https://www.ikea.com/',\n",
        "    'X-Client-Id': 'b6c117e5-ae61-4ef5-b4cc-e0b1e37f0631',\n",
        "}"
      ],
      "metadata": {
        "id": "Jq98UiwXiKh-"
      },
      "execution_count": 4,
      "outputs": []
    },
    {
      "cell_type": "code",
      "source": [
        "try:\n",
        "    response = requests.get(availability_url, headers=ingka_headers)\n",
        "    response.raise_for_status()\n",
        "    ingka_json_response = response.json()\n",
        "    availability_in_stores_of_interest = list(\n",
        "        filter(lambda availability: (availability['classUnitKey']['classUnitType'] == 'STO' and\n",
        "                                     availability['classUnitKey']['classUnitCode'] in list(stores.keys()) and\n",
        "                                     availability['itemKey']['itemType'] in ['ART', 'SPR']),\n",
        "               ingka_json_response['availabilities']))\n",
        "\n",
        "    products = []\n",
        "    product_ids = []\n",
        "    store = []\n",
        "    stock = []\n",
        "    for availability in availability_in_stores_of_interest:\n",
        "        products.append(items[availability['itemKey']['itemNo']])\n",
        "        product_ids.append(availability['itemKey']['itemNo'])\n",
        "        store.append(stores[availability['classUnitKey']['classUnitCode']])\n",
        "        stock.append(availability['buyingOption']['cashCarry']['availability']['quantity'])\n",
        "\n",
        "    df = pd.DataFrame({'Product': products, 'Product Id': product_ids, 'Store': store, 'Stock': stock})\n",
        "    table = pd.pivot_table(\n",
        "        df,\n",
        "        values=[\"Stock\"],\n",
        "        index=[\"Product\", \"Product Id\"],\n",
        "        columns=[\"Store\"],\n",
        "    )\n",
        "    print(table)\n",
        "\n",
        "except requests.exceptions.HTTPError as error:\n",
        "    print(error)"
      ],
      "metadata": {
        "colab": {
          "base_uri": "https://localhost:8080/"
        },
        "id": "YXw0QA1yiOQm",
        "outputId": "5e9b0bdb-209b-4b35-fe46-1ac39e78d85a"
      },
      "execution_count": 10,
      "outputs": [
        {
          "output_type": "stream",
          "name": "stdout",
          "text": [
            "                                                      Stock                  \n",
            "Store                                            Белая Дача Теплый Стан Химки\n",
            "Product                               Product Id                             \n",
            "Каркас гардероба, белый, 50x58x236 см 10014030            9          35    95\n",
            "Полка, белый, 50x58 см                40277973          576        2439     0\n"
          ]
        }
      ]
    }
  ]
}